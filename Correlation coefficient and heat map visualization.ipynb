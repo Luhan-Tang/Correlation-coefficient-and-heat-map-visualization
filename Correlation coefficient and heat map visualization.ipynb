{
 "cells": [
  {
   "cell_type": "code",
   "execution_count": null,
   "id": "e5b08d36",
   "metadata": {},
   "outputs": [],
   "source": [
    "%matplotlib qt5\n",
    "import pandas as pd\n",
    "import matplotlib.pyplot as plt\n",
    "import seaborn as sns  # 可视化w\n",
    "\n",
    "inputdata = pd.read_excel(\"D:1.5.xlsx\")\n",
    "plt.rcParams['font.sans-serif'] = ['SimHei']  # 用来正常显示中文标签\n",
    "plt.rcParams['axes.unicode_minus'] = False  # 用来正常显示负号\n",
    "\n",
    "df = inputdata.copy()\n",
    "_, ax = plt.subplots(figsize=(12, 10))  # 分辨率1200×1000\n",
    "corr = df.corr(method='pearson')  # 使用皮尔逊系数计算列与列的相关性\n",
    "# corr = df.corr(method='kendall')  # 肯德尔秩相关系数\n",
    "#corr = df.corr(method='spearman') # 斯皮尔曼秩相关系数\n",
    "# 上面三行代表了不同的计算方法，需要哪个就把其他的备注就好\n",
    "cmap = sns.diverging_palette(220, 10, as_cmap=True)  # 在两种HUSL颜色之间制作不同的调色板。图的正负色彩范围为220、10，结果为真则返回matplotlib的colormap对象\n",
    "_ = sns.heatmap(\n",
    "    corr,  # 使用Pandas DataFrame数据，索引/列信息用于标记列和行\n",
    "    cmap=cmap,  # 数据值到颜色空间的映射\n",
    "    square=True,  # 每个单元格都是正方形\n",
    "    cbar_kws={'shrink': .9},  # `fig.colorbar`的关键字参数\n",
    "    ax=ax,  # 绘制图的轴\n",
    "    annot=True,  # 在单元格中标注数据值\n",
    "    annot_kws={'fontsize': 12})  # 热图，将矩形数据绘制为颜色编码矩阵\n",
    "plt.title(\"各指标的相关性\", fontsize=20)\n",
    "plt.show()"
   ]
  }
 ],
 "metadata": {
  "kernelspec": {
   "display_name": "Python 3",
   "language": "python",
   "name": "python3"
  },
  "language_info": {
   "codemirror_mode": {
    "name": "ipython",
    "version": 3
   },
   "file_extension": ".py",
   "mimetype": "text/x-python",
   "name": "python",
   "nbconvert_exporter": "python",
   "pygments_lexer": "ipython3",
   "version": "3.8.8"
  }
 },
 "nbformat": 4,
 "nbformat_minor": 5
}
